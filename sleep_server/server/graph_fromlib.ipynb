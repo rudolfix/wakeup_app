{
 "cells": [
  {
   "cell_type": "code",
   "execution_count": 3,
   "metadata": {},
   "outputs": [
    {
     "name": "stdout",
     "output_type": "stream",
     "text": [
      "1380 nodes, 951510 possible edges, 526986 real edges, 0.553842 prob of an edge\n",
      "----prob of 0 edges = 0.574738, 404642 noise edges may be stil created\n",
      "----prob of 1 edges = 0.318314, 101763 noise edges may be stil created\n",
      "----prob of 2 edges = 0.088148, 17890 noise edges may be stil created\n",
      "----prob of 3 edges = 0.016273, 2406 noise edges may be stil created\n",
      "----prob of 4 edges = 0.002253, 262 noise edges may be stil created\n",
      "connections below 5 will be pruned\n",
      "found max\n"
     ]
    }
   ],
   "source": [
    "import numpy as np\n",
    "import inspect\n",
    "import os\n",
    "import sklearn\n",
    "import math\n",
    "from sklearn.manifold import TSNE\n",
    "from sklearn import manifold, mixture, cluster\n",
    "from sqlalchemy import func, select as sqlselect, distinct, text as sqltext\n",
    "from matplotlib import pylab\n",
    "import matplotlib.colors as colors\n",
    "import matplotlib.cm as cmx\n",
    "import networkx as nx\n",
    "import pygraphviz\n",
    "from networkx.drawing.nx_agraph import graphviz_layout\n",
    "import functools\n",
    "import random\n",
    "from operator import itemgetter\n",
    "from itertools import islice\n",
    "import importlib\n",
    "from datetime import datetime, timedelta\n",
    "\n",
    "currentdir = os.path.dirname(os.path.abspath(inspect.getfile(inspect.currentframe())))\n",
    "parentdir = os.path.dirname(currentdir)\n",
    "os.sys.path.insert(0,parentdir)\n",
    "\n",
    "from server import db, user_library\n",
    "from server.models import *\n",
    "from server import song_helper, music_graph_helper\n",
    "from common.user_base import UserBase\n",
    "importlib.reload(song_helper)\n",
    "importlib.reload(music_graph_helper)\n",
    "from common import spotify_helper\n",
    "\n",
    "spotify_helper.refresh_token_on_expired = True\n",
    "%matplotlib inline\n",
    "\n",
    "db.session.rollback()\n",
    "music_graph_helper.init_from_cache()"
   ]
  },
  {
   "cell_type": "code",
   "execution_count": 4,
   "metadata": {},
   "outputs": [
    {
     "name": "stdout",
     "output_type": "stream",
     "text": [
      "dream pop(471): 12(8.000000%) affinity:0.613687\n",
      "modern performance(893): 12(8.000000%) affinity:0.977929\n",
      "minimal(879): 12(8.000000%) affinity:0.921856\n",
      "ethereal wave(524): 12(8.000000%) affinity:0.661905\n",
      "glitch(620): 10(6.666667%) affinity:0.700143\n",
      "classical christmas(260): 9(6.000000%) affinity:0.990141\n",
      "choral(218): 9(6.000000%) affinity:1.000000\n",
      "warm drone(1358): 7(4.666667%) affinity:0.893130\n",
      "fourth world(566): 7(4.666667%) affinity:0.902247\n",
      "dark ambient(329): 7(4.666667%) affinity:0.813411\n",
      "ambient(39): 6(4.000000%) affinity:0.923516\n",
      "lowercase(828): 6(4.000000%) affinity:0.866667\n",
      "abstract idm(5): 5(3.333333%) affinity:0.471891\n",
      "throat singing(1271): 5(3.333333%) affinity:0.888889\n",
      "hauntology(668): 5(3.333333%) affinity:0.643939\n",
      "dub techno(481): 5(3.333333%) affinity:0.611684\n",
      "[(471, 0.080000000000000002, 0.61368656), (893, 0.080000000000000002, 0.9779287), (879, 0.080000000000000002, 0.92185593), (524, 0.080000000000000002, 0.66190475), (620, 0.066666666666666666, 0.70014346), (260, 0.059999999999999998, 0.99014086), (218, 0.059999999999999998, 1.0), (1358, 0.046666666666666669, 0.89312977), (566, 0.046666666666666669, 0.90224719), (329, 0.046666666666666669, 0.81341106), (39, 0.040000000000000001, 0.92351598), (828, 0.040000000000000001, 0.86666667), (5, 0.033333333333333333, 0.47189096), (1271, 0.033333333333333333, 0.8888889), (668, 0.033333333333333333, 0.64393938), (481, 0.033333333333333333, 0.61168385)]\n"
     ]
    }
   ],
   "source": [
    "library = user_library.load_library('rudolfix-us')\n",
    "lib_song_features, indexed_songs = music_graph_helper.load_user_library_song_features(library)\n",
    "lib_song_features, _, __ = music_graph_helper.prepare_songs(lib_song_features, music_graph_helper.G.features_scaler)\n",
    "print(music_graph_helper.compute_sleep_genres(lib_song_features))"
   ]
  }
 ],
 "metadata": {
  "kernelspec": {
   "display_name": "Python 3",
   "language": "python",
   "name": "python3"
  },
  "language_info": {
   "codemirror_mode": {
    "name": "ipython",
    "version": 3.0
   },
   "file_extension": ".py",
   "mimetype": "text/x-python",
   "name": "python",
   "nbconvert_exporter": "python",
   "pygments_lexer": "ipython3",
   "version": "3.4.3"
  }
 },
 "nbformat": 4,
 "nbformat_minor": 0
}